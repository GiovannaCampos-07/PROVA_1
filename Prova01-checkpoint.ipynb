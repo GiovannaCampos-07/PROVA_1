{
 "cells": [
  {
   "cell_type": "code",
   "execution_count": 1,
   "id": "791bc702-ca92-48d2-ac26-3f8e86ebfe02",
   "metadata": {},
   "outputs": [],
   "source": [
    "valor1 = 20\n",
    "valor2 = 50\n",
    "valor3 = 100"
   ]
  },
  {
   "cell_type": "code",
   "execution_count": 3,
   "id": "fd7053af-397c-4089-aab1-776d4fdc5239",
   "metadata": {},
   "outputs": [],
   "source": [
    "valores = [valor1, valor2, valor3]\n",
    "valores.sort(reverse=True)\n"
   ]
  },
  {
   "cell_type": "code",
   "execution_count": 5,
   "id": "ccedb84c-2d50-4330-9adf-d88d6d549ddb",
   "metadata": {},
   "outputs": [],
   "source": [
    "maior1 = valores[0]\n",
    "maior2 = valores[1]"
   ]
  },
  {
   "cell_type": "code",
   "execution_count": 7,
   "id": "81cedc42-9607-4c1d-8d80-ff24e35f6928",
   "metadata": {},
   "outputs": [],
   "source": [
    "media = (maior1 + maior2)/2"
   ]
  },
  {
   "cell_type": "code",
   "execution_count": 11,
   "id": "c3ab08c7-745e-4c30-9a33-110429ce9ca5",
   "metadata": {},
   "outputs": [
    {
     "name": "stdout",
     "output_type": "stream",
     "text": [
      " os dois maiores valores são: 100 e 50\n",
      " a média aritmética dos dois maiores valores é:75.0\n"
     ]
    }
   ],
   "source": [
    "print(f\" os dois maiores valores são: {maior1} e {maior2}\")\n",
    "print(f\" a média aritmética dos dois maiores valores é:{media}\")"
   ]
  },
  {
   "cell_type": "code",
   "execution_count": null,
   "id": "93297109-9231-47cf-8966-99fd431696d1",
   "metadata": {},
   "outputs": [],
   "source": []
  },
  {
   "cell_type": "code",
   "execution_count": null,
   "id": "813d1180-ccba-4311-929f-0d6efa713171",
   "metadata": {},
   "outputs": [],
   "source": []
  },
  {
   "cell_type": "code",
   "execution_count": null,
   "id": "cbfae46d-54f8-48e9-9715-a3610dee4618",
   "metadata": {},
   "outputs": [],
   "source": []
  }
 ],
 "metadata": {
  "kernelspec": {
   "display_name": "Python [conda env:anaconda3]",
   "language": "python",
   "name": "conda-env-anaconda3-py"
  },
  "language_info": {
   "codemirror_mode": {
    "name": "ipython",
    "version": 3
   },
   "file_extension": ".py",
   "mimetype": "text/x-python",
   "name": "python",
   "nbconvert_exporter": "python",
   "pygments_lexer": "ipython3",
   "version": "3.13.5"
  }
 },
 "nbformat": 4,
 "nbformat_minor": 5
}
